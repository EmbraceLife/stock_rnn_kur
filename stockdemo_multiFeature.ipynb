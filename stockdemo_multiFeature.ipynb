{
 "cells": [
  {
   "cell_type": "markdown",
   "metadata": {},
   "source": [
    "# Build a stock_rnn example in Kur\n",
    "> Below is a [notebook I found](https://github.com/AndysDeepAbstractions/How-to-Predict-Stock-Prices-Easily-Demo) to predict stock prices using LSTM, this notebook achieved the following: \n",
    "- download google price from yahoo\n",
    "- preprocess data into training and test sets: \n",
    "- each set contains: Input_x (num_data_points, seq_len, num_features), Output_y (num_data_points, close_price)\n",
    "- num_features: 12, contains close_price\n",
    "- I can save dataset into jsonl files\n",
    "- build a LSTM model in keras, and it works\n",
    "\n",
    "> However, something is not working\n",
    "- I managed to make plot working but it doesn't look right\n",
    "- rewrite keras code in Kur does not compile\n",
    "- Question: is `- input: ` and `- output:` the source of error?\n",
    "\n",
    "> Can a data supplier be built to load local csv file of stock data? \n",
    "- If it is possible to make a data supplier, when can it be done? \n",
    "- what should I do to help to speed up the process? \n"
   ]
  },
  {
   "cell_type": "code",
   "execution_count": 4,
   "metadata": {
    "ExecuteTime": {
     "end_time": "2017-03-06T12:07:44.072676Z",
     "start_time": "2017-03-06T20:07:44.045697+08:00"
    },
    "collapsed": false,
    "deletable": true,
    "editable": true,
    "run_control": {
     "frozen": false,
     "read_only": false
    }
   },
   "outputs": [],
   "source": [
    "%matplotlib notebook\n",
    "%matplotlib inline\n",
    "\n",
    "import os\n",
    "import time\n",
    "import datetime as dt\n",
    "import numpy as np\n",
    "from numpy import newaxis\n",
    "import matplotlib.pyplot as plt\n",
    "import pandas as pd\n",
    "import pandas_datareader\n",
    "import stock_data_preprocessing"
   ]
  },
  {
   "cell_type": "markdown",
   "metadata": {
    "deletable": true,
    "editable": true,
    "run_control": {
     "frozen": false,
     "read_only": false
    }
   },
   "source": [
    "# Load newest Google stock data from Yahoo Finance"
   ]
  },
  {
   "cell_type": "code",
   "execution_count": 5,
   "metadata": {
    "ExecuteTime": {
     "end_time": "2017-03-06T12:07:46.537918Z",
     "start_time": "2017-03-06T20:07:44.075859+08:00"
    },
    "collapsed": false,
    "deletable": true,
    "editable": true,
    "run_control": {
     "frozen": false,
     "read_only": false
    },
    "scrolled": true
   },
   "outputs": [
    {
     "data": {
      "text/html": [
       "<div>\n",
       "<table border=\"1\" class=\"dataframe\">\n",
       "  <thead>\n",
       "    <tr style=\"text-align: right;\">\n",
       "      <th></th>\n",
       "      <th>Open</th>\n",
       "      <th>High</th>\n",
       "      <th>Low</th>\n",
       "      <th>Close</th>\n",
       "      <th>Volume</th>\n",
       "      <th>Adj Close</th>\n",
       "    </tr>\n",
       "    <tr>\n",
       "      <th>Date</th>\n",
       "      <th></th>\n",
       "      <th></th>\n",
       "      <th></th>\n",
       "      <th></th>\n",
       "      <th></th>\n",
       "      <th></th>\n",
       "    </tr>\n",
       "  </thead>\n",
       "  <tbody>\n",
       "    <tr>\n",
       "      <th>2004-08-19</th>\n",
       "      <td>100.000168</td>\n",
       "      <td>104.060182</td>\n",
       "      <td>95.960165</td>\n",
       "      <td>100.340176</td>\n",
       "      <td>44871300</td>\n",
       "      <td>50.119968</td>\n",
       "    </tr>\n",
       "    <tr>\n",
       "      <th>2004-08-20</th>\n",
       "      <td>101.010175</td>\n",
       "      <td>109.080187</td>\n",
       "      <td>100.500174</td>\n",
       "      <td>108.310183</td>\n",
       "      <td>22942800</td>\n",
       "      <td>54.100990</td>\n",
       "    </tr>\n",
       "    <tr>\n",
       "      <th>2004-08-23</th>\n",
       "      <td>110.750191</td>\n",
       "      <td>113.480193</td>\n",
       "      <td>109.050183</td>\n",
       "      <td>109.400185</td>\n",
       "      <td>18342800</td>\n",
       "      <td>54.645447</td>\n",
       "    </tr>\n",
       "    <tr>\n",
       "      <th>2004-08-24</th>\n",
       "      <td>111.240189</td>\n",
       "      <td>111.600192</td>\n",
       "      <td>103.570177</td>\n",
       "      <td>104.870176</td>\n",
       "      <td>15319700</td>\n",
       "      <td>52.382705</td>\n",
       "    </tr>\n",
       "    <tr>\n",
       "      <th>2004-08-25</th>\n",
       "      <td>104.960181</td>\n",
       "      <td>108.000187</td>\n",
       "      <td>103.880180</td>\n",
       "      <td>106.000184</td>\n",
       "      <td>9232100</td>\n",
       "      <td>52.947145</td>\n",
       "    </tr>\n",
       "  </tbody>\n",
       "</table>\n",
       "</div>"
      ],
      "text/plain": [
       "                  Open        High         Low       Close    Volume  \\\n",
       "Date                                                                   \n",
       "2004-08-19  100.000168  104.060182   95.960165  100.340176  44871300   \n",
       "2004-08-20  101.010175  109.080187  100.500174  108.310183  22942800   \n",
       "2004-08-23  110.750191  113.480193  109.050183  109.400185  18342800   \n",
       "2004-08-24  111.240189  111.600192  103.570177  104.870176  15319700   \n",
       "2004-08-25  104.960181  108.000187  103.880180  106.000184   9232100   \n",
       "\n",
       "            Adj Close  \n",
       "Date                   \n",
       "2004-08-19  50.119968  \n",
       "2004-08-20  54.100990  \n",
       "2004-08-23  54.645447  \n",
       "2004-08-24  52.382705  \n",
       "2004-08-25  52.947145  "
      ]
     },
     "execution_count": 5,
     "metadata": {},
     "output_type": "execute_result"
    }
   ],
   "source": [
    "#load data\n",
    "start = dt.datetime(1995,1,1)\n",
    "end   = dt.date.today()\n",
    "data = pandas_datareader.data.DataReader('GOOG','yahoo',start,end)\n",
    "data.head()"
   ]
  },
  {
   "cell_type": "markdown",
   "metadata": {
    "deletable": true,
    "editable": true,
    "run_control": {
     "frozen": false,
     "read_only": false
    }
   },
   "source": [
    "# Normalise and Prepozess the data like a boss^12"
   ]
  },
  {
   "cell_type": "code",
   "execution_count": 6,
   "metadata": {
    "ExecuteTime": {
     "end_time": "2017-03-06T12:07:50.489329Z",
     "start_time": "2017-03-06T20:07:46.543008+08:00"
    },
    "collapsed": false,
    "deletable": true,
    "editable": true,
    "run_control": {
     "frozen": false,
     "read_only": false
    }
   },
   "outputs": [
    {
     "data": {
      "text/html": [
       "<div>\n",
       "<table border=\"1\" class=\"dataframe\">\n",
       "  <thead>\n",
       "    <tr style=\"text-align: right;\">\n",
       "      <th></th>\n",
       "      <th>Ordinal/1e6</th>\n",
       "      <th>Weekday</th>\n",
       "      <th>Adj Volume</th>\n",
       "      <th>Adj Close</th>\n",
       "      <th>Adj Open</th>\n",
       "      <th>Adj High</th>\n",
       "      <th>Adj Low</th>\n",
       "      <th>Normalised Volume</th>\n",
       "      <th>Normalised Close</th>\n",
       "      <th>Normalised Open</th>\n",
       "      <th>Normalised High</th>\n",
       "      <th>Normalised Low</th>\n",
       "    </tr>\n",
       "    <tr>\n",
       "      <th>Date</th>\n",
       "      <th></th>\n",
       "      <th></th>\n",
       "      <th></th>\n",
       "      <th></th>\n",
       "      <th></th>\n",
       "      <th></th>\n",
       "      <th></th>\n",
       "      <th></th>\n",
       "      <th></th>\n",
       "      <th></th>\n",
       "      <th></th>\n",
       "      <th></th>\n",
       "    </tr>\n",
       "  </thead>\n",
       "  <tbody>\n",
       "    <tr>\n",
       "      <th>2004-08-19</th>\n",
       "      <td>0.731812</td>\n",
       "      <td>3.0</td>\n",
       "      <td>0.543621</td>\n",
       "      <td>1.0</td>\n",
       "      <td>0.996611</td>\n",
       "      <td>1.037074</td>\n",
       "      <td>0.956348</td>\n",
       "      <td>0.0</td>\n",
       "      <td>0.0</td>\n",
       "      <td>0.0</td>\n",
       "      <td>0.0</td>\n",
       "      <td>0.0</td>\n",
       "    </tr>\n",
       "  </tbody>\n",
       "</table>\n",
       "</div>"
      ],
      "text/plain": [
       "            Ordinal/1e6  Weekday  Adj Volume  Adj Close  Adj Open  Adj High  \\\n",
       "Date                                                                          \n",
       "2004-08-19     0.731812      3.0    0.543621        1.0  0.996611  1.037074   \n",
       "\n",
       "             Adj Low  Normalised Volume  Normalised Close  Normalised Open  \\\n",
       "Date                                                                         \n",
       "2004-08-19  0.956348                0.0               0.0              0.0   \n",
       "\n",
       "            Normalised High  Normalised Low  \n",
       "Date                                         \n",
       "2004-08-19              0.0             0.0  "
      ]
     },
     "execution_count": 6,
     "metadata": {},
     "output_type": "execute_result"
    }
   ],
   "source": [
    "#normalise data\n",
    "data_n = stock_data_preprocessing.normalise_stock_data(data)\n",
    "data_n.head(1)\n"
   ]
  },
  {
   "cell_type": "code",
   "execution_count": 7,
   "metadata": {
    "ExecuteTime": {
     "end_time": "2017-03-06T12:07:50.503248Z",
     "start_time": "2017-03-06T20:07:50.492964+08:00"
    },
    "collapsed": false,
    "deletable": true,
    "editable": true,
    "run_control": {
     "frozen": false,
     "read_only": false
    }
   },
   "outputs": [
    {
     "data": {
      "text/plain": [
       "12"
      ]
     },
     "execution_count": 7,
     "metadata": {},
     "output_type": "execute_result"
    }
   ],
   "source": [
    "len(data_n.columns)"
   ]
  },
  {
   "cell_type": "markdown",
   "metadata": {
    "deletable": true,
    "editable": true,
    "run_control": {
     "frozen": false,
     "read_only": false
    }
   },
   "source": [
    "# 1,2,3 Plot Line!"
   ]
  },
  {
   "cell_type": "code",
   "execution_count": 8,
   "metadata": {
    "ExecuteTime": {
     "end_time": "2017-03-06T12:07:51.544518Z",
     "start_time": "2017-03-06T20:07:50.508713+08:00"
    },
    "collapsed": false,
    "deletable": true,
    "editable": true,
    "run_control": {
     "frozen": false,
     "read_only": false
    }
   },
   "outputs": [
    {
     "data": {
      "image/png": "[encoded data removed]",
      "text/plain": [
       "<matplotlib.figure.Figure at 0x10bc6f160>"
      ]
     },
     "metadata": {},
     "output_type": "display_data"
    }
   ],
   "source": [
    "stock_data_preprocessing.stock_plot((data_n,))"
   ]
  },
  {
   "cell_type": "markdown",
   "metadata": {
    "deletable": true,
    "editable": true,
    "run_control": {
     "frozen": false,
     "read_only": false
    }
   },
   "source": [
    "# Pickup the Data"
   ]
  },
  {
   "cell_type": "code",
   "execution_count": 9,
   "metadata": {
    "ExecuteTime": {
     "end_time": "2017-03-06T12:07:51.559113Z",
     "start_time": "2017-03-06T20:07:51.547982+08:00"
    },
    "collapsed": false,
    "deletable": true,
    "editable": true,
    "run_control": {
     "frozen": false,
     "read_only": false
    }
   },
   "outputs": [],
   "source": [
    "# training data\n",
    "prediction_time = 1 #day\n",
    "testdatasize = 450\n",
    "unroll_length = 50                                     # sequence length = seq_len = 50\n",
    "testdatacut = testdatasize + unroll_length  + 1\n",
    "\n",
    "x_train = data_n[0:-prediction_time-testdatacut].as_matrix()\n",
    "y_train = data_n[prediction_time:-testdatacut  ]['Normalised Close'].as_matrix()\n",
    "\n",
    "# validation data\n",
    "\n",
    "\n",
    "# test data\n",
    "x_test = data_n[0-testdatacut:-prediction_time].as_matrix()\n",
    "y_test = data_n[prediction_time-testdatacut:  ]['Normalised Close'].as_matrix()\n",
    "\n"
   ]
  },
  {
   "cell_type": "code",
   "execution_count": 10,
   "metadata": {
    "ExecuteTime": {
     "end_time": "2017-03-06T12:07:51.578230Z",
     "start_time": "2017-03-06T20:07:51.561613+08:00"
    },
    "collapsed": false,
    "deletable": true,
    "editable": true,
    "run_control": {
     "frozen": false,
     "read_only": false
    }
   },
   "outputs": [
    {
     "name": "stdout",
     "output_type": "stream",
     "text": [
      "[[  7.31812000e-01   3.00000000e+00   5.43621088e-01   1.00000000e+00\n",
      "    9.96611447e-01   1.03707394e+00   9.56348382e-01   0.00000000e+00\n",
      "    0.00000000e+00   0.00000000e+00   0.00000000e+00   0.00000000e+00]\n",
      " [  7.31813000e-01   4.00000000e+00   2.77954726e-01   1.07942986e+00\n",
      "    1.00667727e+00   1.08710379e+00   1.00159455e+00  -7.22045274e-01\n",
      "    7.94298592e-02   6.67726667e-03   8.71037942e-02   1.59454691e-03]]\n",
      "[ 0.07942986  0.01006372]\n"
     ]
    }
   ],
   "source": [
    "print(x_train[0:2])\n",
    "print(y_train[0:2])"
   ]
  },
  {
   "cell_type": "markdown",
   "metadata": {
    "deletable": true,
    "editable": true,
    "run_control": {
     "frozen": false,
     "read_only": false
    }
   },
   "source": [
    "# unroll it"
   ]
  },
  {
   "cell_type": "code",
   "execution_count": 11,
   "metadata": {
    "ExecuteTime": {
     "end_time": "2017-03-06T12:07:51.698390Z",
     "start_time": "2017-03-06T20:07:51.589527+08:00"
    },
    "collapsed": false,
    "deletable": true,
    "editable": true,
    "run_control": {
     "frozen": false,
     "read_only": false
    }
   },
   "outputs": [
    {
     "name": "stdout",
     "output_type": "stream",
     "text": [
      "2605\n",
      "now 2-d arrays becomes 3-d arrays: dim of x_train, x_test: (num_data_points, seq_len, num_features)\n",
      "x_train (2605, 50, 12)\n",
      "x_test (450, 50, 12)\n",
      " \n",
      "y_train and y_test dim stays the same\n",
      "y_train (2605,)\n",
      "y_test (450,)\n"
     ]
    }
   ],
   "source": [
    "                                                    # unroll func add a seq_len to arrays like x_train, y_train\n",
    "                                                    # 2-d array will become 3-d array\n",
    "def unroll(data,sequence_length=2):\n",
    "    result = []\n",
    "    for index in range(len(data) - sequence_length):\n",
    "        result.append(data[index: index + sequence_length])\n",
    "    return np.asarray(result)\n",
    "\n",
    "\n",
    "x_train = unroll(x_train,unroll_length)\n",
    "x_test  = unroll(x_test,unroll_length)\n",
    "print(x_train.shape[0])\n",
    "y_train = y_train[-x_train.shape[0]:]\n",
    "y_test  = y_test[-x_test.shape[0]:]\n",
    "\n",
    "print('now 2-d arrays becomes 3-d arrays: dim of x_train, x_test: (num_data_points, seq_len, num_features)')\n",
    "print(\"x_train\", x_train.shape)\n",
    "print(\"x_test\", x_test.shape)\n",
    "print(\" \")\n",
    "print('y_train and y_test dim stays the same')\n",
    "print(\"y_train\", y_train.shape)\n",
    "print(\"y_test\", y_test.shape)"
   ]
  },
  {
   "cell_type": "markdown",
   "metadata": {
    "deletable": true,
    "editable": true,
    "run_control": {
     "frozen": false,
     "read_only": false
    }
   },
   "source": [
    "# Save dataset into Jsonl files"
   ]
  },
  {
   "cell_type": "code",
   "execution_count": 13,
   "metadata": {
    "ExecuteTime": {
     "end_time": "2017-03-06T12:08:37.271720Z",
     "start_time": "2017-03-06T20:08:34.842900+08:00"
    },
    "collapsed": false,
    "deletable": true,
    "editable": true,
    "run_control": {
     "frozen": false,
     "read_only": false
    }
   },
   "outputs": [],
   "source": [
    "name = []\n",
    "with open('data/train.jsonl', 'w') as outfile:\n",
    "\n",
    "    outfile.write(json.dumps({\n",
    "        'features': x_train.tolist(),    # write into file as list of list rather than numpy arrays\n",
    "        'prices': y_train.tolist()   # QUESTION: it means kur accept lists from jsonl file by default\n",
    "    }))\n",
    "    outfile.write('\\n')\n",
    "\n",
    "with open('data/test.jsonl', 'w') as outfile:\n",
    "\n",
    "    outfile.write(json.dumps({\n",
    "        'features': x_test.tolist(),    # write into file as list of list rather than numpy arrays\n",
    "        'prices': y_test.tolist()   # QUESTION: it means kur accept lists from jsonl file by default\n",
    "    }))\n",
    "    outfile.write('\\n')"
   ]
  },
  {
   "cell_type": "markdown",
   "metadata": {
    "deletable": true,
    "editable": true,
    "run_control": {
     "frozen": false,
     "read_only": false
    }
   },
   "source": [
    "# Go! (with Python 3.5, Keras 1.2.2 and Tensorflow 1.0, better on AWS)"
   ]
  },
  {
   "cell_type": "code",
   "execution_count": 14,
   "metadata": {
    "ExecuteTime": {
     "end_time": "2017-03-06T12:08:43.495227Z",
     "start_time": "2017-03-06T20:08:42.199235+08:00"
    },
    "collapsed": false,
    "deletable": true,
    "editable": true,
    "run_control": {
     "frozen": false,
     "read_only": false
    }
   },
   "outputs": [
    {
     "name": "stderr",
     "output_type": "stream",
     "text": [
      "Using Theano backend.\n"
     ]
    }
   ],
   "source": [
    "from keras.layers.core import Dense, Activation, Dropout\n",
    "from keras.layers.recurrent import LSTM\n",
    "from keras.models import Sequential\n",
    "import lstm, time #helper libraries"
   ]
  },
  {
   "cell_type": "code",
   "execution_count": 15,
   "metadata": {
    "ExecuteTime": {
     "end_time": "2017-03-06T12:08:46.008662Z",
     "start_time": "2017-03-06T20:08:43.585448+08:00"
    },
    "collapsed": false,
    "deletable": true,
    "editable": true,
    "run_control": {
     "frozen": false,
     "read_only": false
    }
   },
   "outputs": [
    {
     "name": "stdout",
     "output_type": "stream",
     "text": [
      "compilation time : 0.01405787467956543\n"
     ]
    }
   ],
   "source": [
    "#Step 2 Build Model\n",
    "model = Sequential()\n",
    "\n",
    "model.add(LSTM(\n",
    "    input_dim=x_train.shape[-1],                 # input layer dim == num_neurons of input layer == num_features of input data\n",
    "    output_dim=50,                               # h1_layer dim == 50, set by user\n",
    "    return_sequences=True))                      # every value on the sequence will pass an output\n",
    "model.add(Dropout(0.2))\n",
    "\n",
    "model.add(LSTM(\n",
    "    100,                                         # h2_layer dim = 100, set by user\n",
    "    return_sequences=False))                     # last value on the sequence will pass an output\n",
    "model.add(Dropout(0.2))\n",
    "\n",
    "model.add(Dense(\n",
    "    output_dim=1))                               # dense_layer or output layer dim = 1, \n",
    "                                                 # a sequence of values only to predice one price\n",
    "model.add(Activation('linear'))\n",
    "\n",
    "start = time.time()\n",
    "model.compile(loss='mse', optimizer='rmsprop')\n",
    "print('compilation time : {}'.format(time.time() - start))"
   ]
  },
  {
   "cell_type": "code",
   "execution_count": 16,
   "metadata": {
    "ExecuteTime": {
     "end_time": "2017-03-06T12:09:46.318221Z",
     "start_time": "2017-03-06T20:08:50.316133+08:00"
    },
    "collapsed": false,
    "deletable": true,
    "editable": true,
    "run_control": {
     "frozen": false,
     "read_only": false
    }
   },
   "outputs": [
    {
     "name": "stdout",
     "output_type": "stream",
     "text": [
      "Train on 2474 samples, validate on 131 samples\n",
      "Epoch 1/3\n",
      "2474/2474 [==============================] - 10s - loss: 0.2024 - val_loss: 1.5012\n",
      "Epoch 2/3\n",
      "2474/2474 [==============================] - 8s - loss: 1.4231 - val_loss: 2.1029e-04\n",
      "Epoch 3/3\n",
      "2474/2474 [==============================] - 8s - loss: 0.0757 - val_loss: 0.0086\n"
     ]
    },
    {
     "data": {
      "text/plain": [
       "<keras.callbacks.History at 0x11adbb390>"
      ]
     },
     "execution_count": 16,
     "metadata": {},
     "output_type": "execute_result"
    }
   ],
   "source": [
    "#Step 3 Train the model\n",
    "model.fit(\n",
    "    x_train,\n",
    "    y_train,\n",
    "    batch_size=3028,\n",
    "    nb_epoch=3,\n",
    "    validation_split=0.05)"
   ]
  },
  {
   "cell_type": "markdown",
   "metadata": {
    "deletable": true,
    "editable": true,
    "run_control": {
     "frozen": false,
     "read_only": false
    }
   },
   "source": [
    "# plotting predictions, but don't look right"
   ]
  },
  {
   "cell_type": "code",
   "execution_count": 17,
   "metadata": {
    "ExecuteTime": {
     "end_time": "2017-03-06T12:10:04.040598Z",
     "start_time": "2017-03-06T20:10:01.066446+08:00"
    },
    "collapsed": false,
    "deletable": true,
    "editable": true,
    "run_control": {
     "frozen": false,
     "read_only": false
    },
    "scrolled": true
   },
   "outputs": [
    {
     "name": "stdout",
     "output_type": "stream",
     "text": [
      "yo\n"
     ]
    },
    {
     "data": {
      "image/png": "[encoded data removed]",
      "text/plain": [
       "<matplotlib.figure.Figure at 0x11adbb2e8>"
      ]
     },
     "metadata": {},
     "output_type": "display_data"
    }
   ],
   "source": [
    "#Step 4 - Plot the predictions!\n",
    "import lstm\n",
    "predictions = lstm.predict_sequences_multiple(model, x_test, 50, 50)\n",
    "lstm.plot_results_multiple(predictions, y_test, 50)"
   ]
  },
  {
   "cell_type": "markdown",
   "metadata": {
    "ExecuteTime": {
     "end_time": "2017-03-06T12:11:06.777815Z",
     "start_time": "2017-03-06T20:11:06.773034+08:00"
    }
   },
   "source": [
    "# Writing keras model above in kurm"
   ]
  },
  {
   "cell_type": "code",
   "execution_count": 20,
   "metadata": {
    "ExecuteTime": {
     "end_time": "2017-03-06T12:11:14.610301Z",
     "start_time": "2017-03-06T20:11:14.602278+08:00"
    },
    "collapsed": false,
    "deletable": true,
    "editable": true,
    "run_control": {
     "frozen": false,
     "read_only": false
    }
   },
   "outputs": [
    {
     "name": "stdout",
     "output_type": "stream",
     "text": [
      "Writing stock_rnn_kur.yaml\n"
     ]
    }
   ],
   "source": [
    "%%writefile stock_rnn_kur.yaml\n",
    "\n",
    "---\n",
    "\n",
    "\n",
    "model:\n",
    "  - input: features\n",
    "\n",
    "\n",
    "  - recurrent:\n",
    "    size: 50\n",
    "    type: lstm\n",
    "    sequence: yes\n",
    "    bidirectional: no\n",
    "  - batch_normalization\n",
    "\n",
    "  - recurrent:\n",
    "      size: 100\n",
    "      type: lstm\n",
    "      sequence: no\n",
    "      bidirectional: no\n",
    "\n",
    "  - dense: 1\n",
    "\n",
    "  - activation: relu\n",
    "\n",
    "  - output: prices\n",
    "\n",
    "loss:\n",
    "  - target: prices\n",
    "    name: mean_squared_error\n",
    "\n",
    "train:\n",
    "  data:\n",
    "    - jsonl: data/train.jsonl\n",
    "  epochs: 2                               \n",
    "  weights:\n",
    "    initial: t1/best.w.kur\n",
    "    best: t1/best.w.kur\n",
    "    last: t1/last.w.kur\n",
    "  log: t1/log\n",
    "  hooks:                                   # Let plot loss\n",
    "    - plot: t1/loss.png\n",
    "\n",
    "\n",
    "validate:\n",
    "  data:\n",
    "    - jsonl: data/test.jsonl\n",
    "  weights: t1/best.w.kur\n",
    "\n",
    "\n",
    "test:\n",
    "  data:\n",
    "    - jsonl: data/test.jsonl\n",
    "  weights: t1/best.w.kur\n",
    "\n",
    "\n",
    "evaluate:\n",
    "  data:\n",
    "    - jsonl: data/test.jsonl\n",
    "  weights: t1/best.w.kur\n",
    "\n",
    "  destination: t1/output.pkl\n",
    "..."
   ]
  },
  {
   "cell_type": "code",
   "execution_count": 21,
   "metadata": {
    "ExecuteTime": {
     "end_time": "2017-03-06T12:11:20.668410Z",
     "start_time": "2017-03-06T20:11:19.382440+08:00"
    },
    "collapsed": false,
    "deletable": true,
    "editable": true,
    "run_control": {
     "frozen": false,
     "read_only": false
    }
   },
   "outputs": [
    {
     "name": "stdout",
     "output_type": "stream",
     "text": [
      "\u001b[1;37m[INFO 2017-03-06 20:11:20,468 kur.kurfile:699]\u001b[0m Parsing source: stock_rnn_kur.yaml, included by top-level.\u001b[0m\n",
      "\u001b[1;37m[INFO 2017-03-06 20:11:20,477 kur.kurfile:82]\u001b[0m Parsing Kurfile...\u001b[0m\n",
      "Traceback (most recent call last):\n",
      "  File \"/Users/Natsume/miniconda2/envs/dlnd-tf-lab/bin/kur\", line 11, in <module>\n",
      "    load_entry_point('kur', 'console_scripts', 'kur')()\n",
      "  File \"/Users/Natsume/Downloads/kur_road/kur/kur/__main__.py\", line 382, in main\n",
      "    sys.exit(args.func(args) or 0)\n",
      "  File \"/Users/Natsume/Downloads/kur_road/kur/kur/__main__.py\", line 60, in train\n",
      "    spec = parse_kurfile(args.kurfile, args.engine)\n",
      "  File \"/Users/Natsume/Downloads/kur_road/kur/kur/__main__.py\", line 46, in parse_kurfile\n",
      "    spec.parse()\n",
      "  File \"/Users/Natsume/Downloads/kur_road/kur/kur/kurfile.py\", line 124, in parse\n",
      "    self.engine, builtin['model'], stack, required=True)\n",
      "  File \"/Users/Natsume/Downloads/kur_road/kur/kur/kurfile.py\", line 657, in _parse_model\n",
      "    container.parse(engine)\n",
      "  File \"/Users/Natsume/Downloads/kur_road/kur/kur/containers/container.py\", line 266, in parse\n",
      "    self._parse(engine)\n",
      "  File \"/Users/Natsume/Downloads/kur_road/kur/kur/containers/layers/recurrent.py\", line 67, in _parse\n",
      "    self.sequence = engine.evaluate(self.args.get('sequence', True),\n",
      "AttributeError: 'NoneType' object has no attribute 'get'\n"
     ]
    }
   ],
   "source": [
    "!kur -v train stock_rnn_kur.yaml"
   ]
  },
  {
   "cell_type": "code",
   "execution_count": null,
   "metadata": {
    "collapsed": true,
    "deletable": true,
    "editable": true,
    "run_control": {
     "frozen": false,
     "read_only": false
    }
   },
   "outputs": [],
   "source": []
  }
 ],
 "metadata": {
  "kernelspec": {
   "display_name": "Python 3",
   "language": "python",
   "name": "python3"
  },
  "language_info": {
   "codemirror_mode": {
    "name": "ipython",
    "version": 3
   },
   "file_extension": ".py",
   "mimetype": "text/x-python",
   "name": "python",
   "nbconvert_exporter": "python",
   "pygments_lexer": "ipython3",
   "version": "3.5.3"
  },
  "toc": {
   "colors": {
    "hover_highlight": "#DAA520",
    "running_highlight": "#FF0000",
    "selected_highlight": "#FFD700"
   },
   "moveMenuLeft": true,
   "nav_menu": {
    "height": "154px",
    "width": "252px"
   },
   "navigate_menu": true,
   "number_sections": true,
   "sideBar": false,
   "threshold": 4,
   "toc_cell": false,
   "toc_position": {
    "height": "262px",
    "left": "1035px",
    "right": "20px",
    "top": "20px",
    "width": "348px"
   },
   "toc_section_display": "block",
   "toc_window_display": true
  }
 },
 "nbformat": 4,
 "nbformat_minor": 2
}
